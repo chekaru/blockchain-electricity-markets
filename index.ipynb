{
 "cells": [
  {
   "cell_type": "markdown",
   "metadata": {},
   "source": [
    "<h1 align=\"center\"> Blockchain applications for electricity markets </h1>\n",
    "\n",
    "Existing \"smart: electricity grids consist of mostly centralized electricity generation, transmission, and distribution assets controlled by a centralized system operator. The smart electricity grids of the future will have contain a significant amount of distributed energy resources (DER), particularly distributed generation and storage resources; centralized control by a single system operator over an increasingly decentralized electricty grid will eventually become untenable. At their core, blockchain based technologies help decentraliBlockchain is a technology for decentralizing control over assets and as such can help facilitate the  \n",
    "\n",
    "We are developing a collection of notebooks explaining the key ideas behind blockchain and how these ideas can be leveraged to improve the design and performance of the electricity markets.\n",
    "\n",
    "<ul>\n",
    "    <li><a href=\"./blockchain-as-datastructure.ipynb\"> Ever wonder how a blockchain datastructure <em>acutally</em> works?</a></li>\n",
    "</ul>"
   ]
  },
  {
   "cell_type": "markdown",
   "metadata": {
    "collapsed": true
   },
   "source": [
    "<img src=\"kapsarc-logo.jpg\">"
   ]
  },
  {
   "cell_type": "code",
   "execution_count": null,
   "metadata": {
    "collapsed": true
   },
   "outputs": [],
   "source": []
  }
 ],
 "metadata": {
  "kernelspec": {
   "display_name": "Python 3",
   "language": "python",
   "name": "python3"
  },
  "language_info": {
   "codemirror_mode": {
    "name": "ipython",
    "version": 3
   },
   "file_extension": ".py",
   "mimetype": "text/x-python",
   "name": "python",
   "nbconvert_exporter": "python",
   "pygments_lexer": "ipython3",
   "version": "3.6.2"
  }
 },
 "nbformat": 4,
 "nbformat_minor": 2
}
